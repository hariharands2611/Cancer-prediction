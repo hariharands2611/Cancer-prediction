{
 "cells": [
  {
   "cell_type": "code",
   "execution_count": 11,
   "id": "ab05eaa2",
   "metadata": {},
   "outputs": [],
   "source": [
    "import pandas as pd\n",
    "import numpy as np\n",
    "import matplotlib.pyplot as plt\n",
    "import seaborn as sns\n",
    "import streamlit as st\n",
    "import warnings\n",
    "import pickle\n",
    "warnings.filterwarnings(\"ignore\")\n",
    "from scipy.stats import skew\n",
    "from sklearn.preprocessing import StandardScaler\n",
    "\n",
    "from sklearn.feature_selection import SelectKBest,f_classif\n",
    "from sklearn.preprocessing import LabelEncoder"
   ]
  },
  {
   "cell_type": "code",
   "execution_count": 12,
   "id": "786073b2",
   "metadata": {},
   "outputs": [],
   "source": [
    "#streamlit background settings\n",
    "st.set_page_config(layout='wide')\n",
    "st.title(\":violet[Predicting Breast Cancer in a patient]\")\n",
    "tab1,tab2=st.tabs([\"HOME\",\"APPLICATION (PREDICT BREAST CANCER)\"])\n",
    "with tab1:\n",
    "    st.text_area(\":rainbow[ABOUT PROJECT]:\",\"Breast cancer represents one of the diseases that make a high number of deaths every year. It is the most common type of all cancers and the main cause of women's deaths worldwide. Classification and data mining methods are an effective way to classify data.Especially in the medical field, where those methods are widely used in diagnosis and analysis to make decisions.So this is the project to make machine Learning model and  classify whether patient has cancer or not \")\n",
    "\n",
    "    st.text_area(\":rainbow[Tools Used For this Project]\",\"Python,VSCODE ,Streamlit\")\n",
    "\n"
   ]
  },
  {
   "cell_type": "code",
   "execution_count": 13,
   "id": "9eb764ff",
   "metadata": {},
   "outputs": [],
   "source": [
    "with tab2:\n",
    "    col1,col2=st.columns(2)\n",
    "    \n",
    "    \n",
    "    \n",
    "    \n",
    "    with col1:\n",
    "        texture_mean=st.number_input(\":blue[ENTER TEXTURE_MEAN](Min: 16.17  & max: 21.8)\")\n",
    "        perimeter_mean=st.number_input(\":blue[ENTER PERIMETER_MEAN](Min: 75.17  & max: 104.1)\")\n",
    "        smoothness_mean=st.number_input(\":blue[ENTER SMOOTHNESS_MEAN](Min: 0.08637  & max: 0.1053)\")\n",
    "        compactness_mean=st.number_input(\":blue[ENTER COMPACTNESS_MEAN](Min: 0.06492  & max: 0.1304)\")\n",
    "        concavity_mean=st.number_input(\":blue[ENTER CONCAVITY_MEAN](Min: 0.02956  & max: 0.1307)\")\n",
    "        fractal_dimension_mean=st.number_input(\":blue[ENTER FRACTAL DIAMENSION_MEAN](Min: 0.0577  & max: 0.06612)\")\n",
    "        texture_se=st.number_input(\":blue[ENTER TEXTURE_SE](Min: 0.8339  & max: 1.474)\")\n",
    "\n",
    "    with col2:\n",
    "\n",
    "        perimeter_se=st.number_input(\":blue[ENTER PERIMETER_SE](Min: 1.606  & max: 3.357)\")\n",
    "        fractal_dimension_se=st.number_input(\":blue[ENTER FRACTAL_DIMENSION_SE](Min: 0.002248  & max: 0.004558)\")\n",
    "        texture_worst=st.number_input(\":blue[ENTER TEXTURE_WORST](Min: 21.08  & max: 29.72)\")\n",
    "        perimeter_worst=st.number_input(\":blue[ENTER PERIMETER_WORST](Min: 84.11  & max: 125.4)\")\n",
    "        smoothness_worst=st.number_input(\":blue[ENTER SMOOTHNESS_WORST](Min: 0.1166  & max: 0.146)\")\n",
    "        compactness_worst=st.number_input(\":blue[ENTER COMPACTNESS_WORST](Min: 0.1472  & max: 0.3391)\")\n",
    "        concavity_worst=st.number_input(\":blue[ENTER CONCAVITY_WORST](Min: 0.1145  & max: 0.3829)\")\n",
    "\n",
    "    \n",
    "    data={\"texture_mean\":texture_mean,\"perimeter_mean\":perimeter_mean,\"smoothness_mean\":smoothness_mean,\"compactness_mean\":compactness_mean,\"concavity_mean\":concavity_mean,\"fractal_dimension_mean\":fractal_dimension_mean,\"texture_se\":texture_se,\"perimeter_se\":perimeter_se,\"fractal_dimension_se\":fractal_dimension_se,\"texture_worst\":texture_worst,\"perimeter_worst\":perimeter_worst,\"smoothness_worst\":smoothness_worst,\"compactness_worst\":compactness_worst,\"concavity_worst\":concavity_worst}\n",
    "    dataframe=pd.DataFrame(data,index=[1])\n",
    "\n",
    "\n",
    "\n",
    "    \n",
    "    with open(r\"C:\\Users\\HARIHARAN\\Documents\\project\\classification_model.pk1\",\"rb\") as f_:\n",
    "          Classi_model=pickle.load(f_)\n",
    "\n",
    "    with open(r\"C:\\Users\\HARIHARAN\\Documents\\project\\classification_scale.pk1\",\"rb\") as f_1:\n",
    "        classi_scale=pickle.load(f_1)\n",
    "\n",
    "    \n",
    "\n",
    "    new_df=classi_scale.transform(dataframe)\n",
    "    prediction=Classi_model.predict(new_df)\n",
    "\n",
    "    button=st.button(\":violet[PREDICT BREAST CANCER]\")\n",
    "    if button:\n",
    "        if prediction==1:\n",
    "            st.write(\"### :red[Malignant: Patient has cancer and the cells have a harmful effect]\")\n",
    "        else:\n",
    "            st.balloons()\n",
    "            st.write(\"### :green[Benign: The cells are not harmful , There is no cancer]\")\n"
   ]
  },
  {
   "cell_type": "code",
   "execution_count": null,
   "id": "4d10b76c",
   "metadata": {},
   "outputs": [],
   "source": []
  }
 ],
 "metadata": {
  "kernelspec": {
   "display_name": "Python 3 (ipykernel)",
   "language": "python",
   "name": "python3"
  },
  "language_info": {
   "codemirror_mode": {
    "name": "ipython",
    "version": 3
   },
   "file_extension": ".py",
   "mimetype": "text/x-python",
   "name": "python",
   "nbconvert_exporter": "python",
   "pygments_lexer": "ipython3",
   "version": "3.11.5"
  }
 },
 "nbformat": 4,
 "nbformat_minor": 5
}
